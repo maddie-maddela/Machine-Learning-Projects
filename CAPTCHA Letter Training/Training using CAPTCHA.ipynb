{
 "cells": [
  {
   "cell_type": "markdown",
   "metadata": {},
   "source": [
    "# Breaking a CAPTCHA system\n",
    "\n",
    "Ref: https://medium.com/@ageitgey/how-to-break-a-captcha-system-in-15-minutes-with-machine-learning-dbebb035a710"
   ]
  },
  {
   "cell_type": "code",
   "execution_count": null,
   "metadata": {},
   "outputs": [],
   "source": [
    "%%javascript\n",
    "IPython.notebook.clear_all_output();"
   ]
  },
  {
   "cell_type": "markdown",
   "metadata": {},
   "source": [
    "Install some packages below (if not installed already):"
   ]
  },
  {
   "cell_type": "code",
   "execution_count": 1,
   "metadata": {},
   "outputs": [
    {
     "name": "stdout",
     "output_type": "stream",
     "text": [
      "Requirement already satisfied: opencv-python in c:\\users\\maddi\\anaconda3\\lib\\site-packages (4.7.0.68)\n",
      "Requirement already satisfied: numpy>=1.17.3 in c:\\users\\maddi\\anaconda3\\lib\\site-packages (from opencv-python) (1.21.5)\n",
      "Requirement already satisfied: imutils in c:\\users\\maddi\\anaconda3\\lib\\site-packages (0.5.4)\n",
      "Collecting package metadata (current_repodata.json): ...working... done\n",
      "Solving environment: ...working... done\n",
      "\n",
      "# All requested packages already installed.\n",
      "\n",
      "Collecting package metadata (current_repodata.json): ...working... done\n",
      "Solving environment: ...working... done\n",
      "\n",
      "# All requested packages already installed.\n",
      "\n"
     ]
    }
   ],
   "source": [
    "!pip install opencv-python\n",
    "!pip install imutils\n",
    "!conda install pydot -y\n",
    "!conda install graphviz -y"
   ]
  },
  {
   "cell_type": "markdown",
   "metadata": {},
   "source": [
    "In this exercise you will break `Really Simple CAPTCHA` plugin of WordPress: https://wordpress.org/plugins/really-simple-captcha/\n",
    "\n",
    "Try a demo here: https://contactform7.com/captcha/"
   ]
  },
  {
   "cell_type": "markdown",
   "metadata": {},
   "source": [
    "The plugin generates 4-letter CAPTCHAs using a random mix of four different fonts. Letters are from 'ABCDEFGHJKLMNPQRSTUVWXYZ23456789' and \"O\", \"I\" and \"1\" are not used to avoid user confusion. That leaves us with a total of 32 possible letters and numbers that we need to recognize."
   ]
  },
  {
   "cell_type": "markdown",
   "metadata": {},
   "source": [
    "Since we have the source code to the WordPress plug-in, we can modify it to save out CAPTCHA images along with the expected answer for each image. We generated 9955 images under folder `generated_captcha_images`. Run the following code to show 10 images to take a look."
   ]
  },
  {
   "cell_type": "code",
   "execution_count": 3,
   "metadata": {},
   "outputs": [],
   "source": [
    "CAPTCHA_IMAGE_FOLDER = \"generated_captcha_images\""
   ]
  },
  {
   "cell_type": "markdown",
   "metadata": {},
   "source": [
    "## Step 1: Extract single letters from CAPTCHA images"
   ]
  },
  {
   "cell_type": "markdown",
   "metadata": {},
   "source": [
    "### Run the following code to show 10 images to take a look."
   ]
  },
  {
   "cell_type": "code",
   "execution_count": 63,
   "metadata": {},
   "outputs": [
    {
     "name": "stdout",
     "output_type": "stream",
     "text": [
      "generated_captcha_images\\222X.png\n"
     ]
    },
    {
     "data": {
      "image/png": "[encoded data removed]",
      "text/plain": [
       "<IPython.core.display.Image object>"
      ]
     },
     "metadata": {},
     "output_type": "display_data"
    },
    {
     "name": "stdout",
     "output_type": "stream",
     "text": [
      "generated_captcha_images\\226U.png\n"
     ]
    },
    {
     "data": {
      "image/png": "[encoded data removed]",
      "text/plain": [
       "<IPython.core.display.Image object>"
      ]
     },
     "metadata": {},
     "output_type": "display_data"
    },
    {
     "name": "stdout",
     "output_type": "stream",
     "text": [
      "generated_captcha_images\\2274.png\n"
     ]
    },
    {
     "data": {
      "image/png": "[encoded data removed]",
      "text/plain": [
       "<IPython.core.display.Image object>"
      ]
     },
     "metadata": {},
     "output_type": "display_data"
    },
    {
     "name": "stdout",
     "output_type": "stream",
     "text": [
      "generated_captcha_images\\22A6.png\n"
     ]
    },
    {
     "data": {
      "image/png": "[encoded data removed]",
      "text/plain": [
       "<IPython.core.display.Image object>"
      ]
     },
     "metadata": {},
     "output_type": "display_data"
    },
    {
     "name": "stdout",
     "output_type": "stream",
     "text": [
      "generated_captcha_images\\22BJ.png\n"
     ]
    },
    {
     "data": {
      "image/png": "[encoded data removed]",
      "text/plain": [
       "<IPython.core.display.Image object>"
      ]
     },
     "metadata": {},
     "output_type": "display_data"
    },
    {
     "name": "stdout",
     "output_type": "stream",
     "text": [
      "generated_captcha_images\\22HS.png\n"
     ]
    },
    {
     "data": {
      "image/png": "[encoded data removed]",
      "text/plain": [
       "<IPython.core.display.Image object>"
      ]
     },
     "metadata": {},
     "output_type": "display_data"
    },
    {
     "name": "stdout",
     "output_type": "stream",
     "text": [
      "generated_captcha_images\\22KD.png\n"
     ]
    },
    {
     "data": {
      "image/png": "[encoded data removed]",
      "text/plain": [
       "<IPython.core.display.Image object>"
      ]
     },
     "metadata": {},
     "output_type": "display_data"
    },
    {
     "name": "stdout",
     "output_type": "stream",
     "text": [
      "generated_captcha_images\\22L9.png\n"
     ]
    },
    {
     "data": {
      "image/png": "[encoded data removed]",
      "text/plain": [
       "<IPython.core.display.Image object>"
      ]
     },
     "metadata": {},
     "output_type": "display_data"
    },
    {
     "name": "stdout",
     "output_type": "stream",
     "text": [
      "generated_captcha_images\\22NR.png\n"
     ]
    },
    {
     "data": {
      "image/png": "[encoded data removed]",
      "text/plain": [
       "<IPython.core.display.Image object>"
      ]
     },
     "metadata": {},
     "output_type": "display_data"
    },
    {
     "name": "stdout",
     "output_type": "stream",
     "text": [
      "generated_captcha_images\\22PL.png\n"
     ]
    },
    {
     "data": {
      "image/png": "[encoded data removed]",
      "text/plain": [
       "<IPython.core.display.Image object>"
      ]
     },
     "metadata": {},
     "output_type": "display_data"
    }
   ],
   "source": [
    "import os.path\n",
    "import glob # glob.glob returns the list of files with their full path, and it supports wildcards\n",
    "\n",
    "from IPython.display import Image\n",
    "\n",
    "captcha_image_files = glob.glob(os.path.join(CAPTCHA_IMAGE_FOLDER, \"*\"))\n",
    "\n",
    "for (i, captcha_image_file) in enumerate(captcha_image_files):\n",
    "    if i==10: break\n",
    "    print(captcha_image_file)\n",
    "    display(Image(filename=captcha_image_file))"
   ]
  },
  {
   "cell_type": "markdown",
   "metadata": {},
   "source": [
    "### Now we illustrate how to process an image `generated_captcha_images/222X.png`"
   ]
  },
  {
   "cell_type": "code",
   "execution_count": 64,
   "metadata": {},
   "outputs": [
    {
     "name": "stdout",
     "output_type": "stream",
     "text": [
      "generated_captcha_images/222X\n"
     ]
    },
    {
     "data": {
      "image/png": "[encoded data removed]",
      "text/plain": [
       "<Figure size 432x288 with 1 Axes>"
      ]
     },
     "metadata": {
      "needs_background": "light"
     },
     "output_type": "display_data"
    },
    {
     "data": {
      "image/png": "[encoded data removed]",
      "text/plain": [
       "<Figure size 432x288 with 1 Axes>"
      ]
     },
     "metadata": {
      "needs_background": "light"
     },
     "output_type": "display_data"
    }
   ],
   "source": [
    "%matplotlib inline\n",
    "#The line above is necesary to show Matplotlib's plots inside a Jupyter Notebook\n",
    "from matplotlib import pyplot as plt\n",
    "import cv2 # OpenCV, a popular framework for computer vision and image processing\n",
    "\n",
    "captcha_image_file = 'generated_captcha_images/222X.png' # normal\n",
    "# captcha_image_file = 'generated_captcha_images/2W4M.png' # try this: 3 objects, 2 letters are merged\n",
    "# captcha_image_file = 'generated_captcha_images/3PH3.png' # try this: 5 objects detected\n",
    "# captcha_image_file = 'generated_captcha_images/JYU4.png' # try this: 6 objects detected\n",
    "\n",
    "captcha_correct_text = os.path.splitext(captcha_image_file)[0]\n",
    "print(captcha_correct_text)\n",
    "\n",
    "# Load the image and convert it to grayscale\n",
    "image = cv2.imread(captcha_image_file)\n",
    "gray = cv2.cvtColor(image, cv2.COLOR_BGR2GRAY)\n",
    "\n",
    "#Show the image with matplotlib\n",
    "plt.imshow(image)\n",
    "plt.show()\n",
    "\n",
    "plt.imshow(gray)\n",
    "plt.show()"
   ]
  },
  {
   "cell_type": "code",
   "execution_count": 65,
   "metadata": {},
   "outputs": [
    {
     "data": {
      "image/png": "[encoded data removed]",
      "text/plain": [
       "<Figure size 432x288 with 1 Axes>"
      ]
     },
     "metadata": {
      "needs_background": "light"
     },
     "output_type": "display_data"
    }
   ],
   "source": [
    "# Add some extra padding around the image\n",
    "gray = cv2.copyMakeBorder(gray, 8, 8, 8, 8, cv2.BORDER_REPLICATE)\n",
    "\n",
    "plt.imshow(gray)\n",
    "plt.show()"
   ]
  },
  {
   "cell_type": "code",
   "execution_count": 66,
   "metadata": {},
   "outputs": [
    {
     "data": {
      "image/png": "[encoded data removed]",
      "text/plain": [
       "<Figure size 432x288 with 1 Axes>"
      ]
     },
     "metadata": {
      "needs_background": "light"
     },
     "output_type": "display_data"
    }
   ],
   "source": [
    "# threshold the image (convert it to pure black and white)\n",
    "# we use Otsu’s binarization\n",
    "# check: https://docs.opencv.org/3.4.0/d7/d4d/tutorial_py_thresholding.html\n",
    "thresh = cv2.threshold(gray, 0, 255, cv2.THRESH_BINARY_INV | cv2.THRESH_OTSU)[1]\n",
    "\n",
    "plt.imshow(thresh)\n",
    "plt.show()"
   ]
  },
  {
   "cell_type": "code",
   "execution_count": 67,
   "metadata": {},
   "outputs": [
    {
     "data": {
      "image/png": "[encoded data removed]",
      "text/plain": [
       "<Figure size 432x288 with 1 Axes>"
      ]
     },
     "metadata": {
      "needs_background": "light"
     },
     "output_type": "display_data"
    },
    {
     "data": {
      "image/png": "[encoded data removed]",
      "text/plain": [
       "<Figure size 432x288 with 1 Axes>"
      ]
     },
     "metadata": {
      "needs_background": "light"
     },
     "output_type": "display_data"
    },
    {
     "data": {
      "image/png": "[encoded data removed]",
      "text/plain": [
       "<Figure size 432x288 with 1 Axes>"
      ]
     },
     "metadata": {
      "needs_background": "light"
     },
     "output_type": "display_data"
    },
    {
     "data": {
      "image/png": "[encoded data removed]",
      "text/plain": [
       "<Figure size 432x288 with 1 Axes>"
      ]
     },
     "metadata": {
      "needs_background": "light"
     },
     "output_type": "display_data"
    }
   ],
   "source": [
    "import numpy as np\n",
    "\n",
    "# find the contours (continuous blobs of pixels) the image\n",
    "# check:\n",
    "# https://opencv-python-tutroals.readthedocs.io/en/latest/py_tutorials/py_imgproc/py_contours/py_contours_begin/py_contours_begin.html#contours-getting-started\n",
    "contours = cv2.findContours(thresh.copy(), cv2.RETR_EXTERNAL, cv2.CHAIN_APPROX_SIMPLE)[0]\n",
    "# !!! if the cell reports error, replace [0] above with [1]\n",
    "\n",
    "zero_img = np.zeros_like(thresh)\n",
    "\n",
    "for i in range(len(contours)):\n",
    "    temp = cv2.drawContours(zero_img.copy(), contours, i, (255,0,0), 1)\n",
    "    plt.imshow(temp)\n",
    "    plt.show()"
   ]
  },
  {
   "cell_type": "code",
   "execution_count": 68,
   "metadata": {},
   "outputs": [
    {
     "data": {
      "image/png": "[encoded data removed]",
      "text/plain": [
       "<Figure size 432x288 with 1 Axes>"
      ]
     },
     "metadata": {
      "needs_background": "light"
     },
     "output_type": "display_data"
    },
    {
     "data": {
      "image/png": "[encoded data removed]",
      "text/plain": [
       "<Figure size 432x288 with 1 Axes>"
      ]
     },
     "metadata": {
      "needs_background": "light"
     },
     "output_type": "display_data"
    },
    {
     "data": {
      "image/png": "[encoded data removed]",
      "text/plain": [
       "<Figure size 432x288 with 1 Axes>"
      ]
     },
     "metadata": {
      "needs_background": "light"
     },
     "output_type": "display_data"
    },
    {
     "data": {
      "image/png": "[encoded data removed]",
      "text/plain": [
       "<Figure size 432x288 with 1 Axes>"
      ]
     },
     "metadata": {
      "needs_background": "light"
     },
     "output_type": "display_data"
    }
   ],
   "source": [
    "for contour in contours:\n",
    "    # Get the rectangle that contains the contour\n",
    "    (x, y, w, h) = cv2.boundingRect(contour)\n",
    "    letter_image = gray[y:y+h, x:x+w]\n",
    "    plt.imshow(letter_image)\n",
    "    plt.show()"
   ]
  },
  {
   "cell_type": "markdown",
   "metadata": {},
   "source": [
    "### Putting things together: get letters from images\n",
    "\n",
    "Using what we have learnt above, write your code to save get the letters of all images. The letter-images are stored as 32 folders under folder `extracted_letter_images`.\n",
    "\n",
    "For example, `extracted_letter_images/A` is a folder that saves all images of letter `A`. After you complete, each letter-folder should contain over 1000 letter-images.\n",
    "\n",
    "Hint: (1) consider how to name different files in a letter-folder differently? (2) ingore those images with number of contours other than 4."
   ]
  },
  {
   "cell_type": "code",
   "execution_count": 15,
   "metadata": {},
   "outputs": [
    {
     "name": "stdout",
     "output_type": "stream",
     "text": [
      "[INFO] processing image 1/9955\n"
     ]
    },
    {
     "data": {
      "image/png": "[encoded data removed]",
      "text/plain": [
       "<IPython.core.display.Image object>"
      ]
     },
     "metadata": {},
     "output_type": "display_data"
    },
    {
     "data": {
      "image/png": "[encoded data removed]",
      "text/plain": [
       "<Figure size 432x288 with 1 Axes>"
      ]
     },
     "metadata": {
      "needs_background": "light"
     },
     "output_type": "display_data"
    },
    {
     "data": {
      "image/png": "[encoded data removed]",
      "text/plain": [
       "<Figure size 432x288 with 1 Axes>"
      ]
     },
     "metadata": {
      "needs_background": "light"
     },
     "output_type": "display_data"
    },
    {
     "data": {
      "image/png": "[encoded data removed]",
      "text/plain": [
       "<Figure size 432x288 with 1 Axes>"
      ]
     },
     "metadata": {
      "needs_background": "light"
     },
     "output_type": "display_data"
    },
    {
     "data": {
      "image/png": "[encoded data removed]",
      "text/plain": [
       "<Figure size 432x288 with 1 Axes>"
      ]
     },
     "metadata": {
      "needs_background": "light"
     },
     "output_type": "display_data"
    },
    {
     "data": {
      "image/png": "[encoded data removed]",
      "text/plain": [
       "<Figure size 432x288 with 1 Axes>"
      ]
     },
     "metadata": {
      "needs_background": "light"
     },
     "output_type": "display_data"
    },
    {
     "data": {
      "image/png": "[encoded data removed]",
      "text/plain": [
       "<Figure size 432x288 with 1 Axes>"
      ]
     },
     "metadata": {
      "needs_background": "light"
     },
     "output_type": "display_data"
    },
    {
     "data": {
      "image/png": "[encoded data removed]",
      "text/plain": [
       "<Figure size 432x288 with 1 Axes>"
      ]
     },
     "metadata": {
      "needs_background": "light"
     },
     "output_type": "display_data"
    },
    {
     "data": {
      "image/png": "[encoded data removed]",
      "text/plain": [
       "<Figure size 432x288 with 1 Axes>"
      ]
     },
     "metadata": {
      "needs_background": "light"
     },
     "output_type": "display_data"
    },
    {
     "data": {
      "image/png": "[encoded data removed]",
      "text/plain": [
       "<Figure size 432x288 with 1 Axes>"
      ]
     },
     "metadata": {
      "needs_background": "light"
     },
     "output_type": "display_data"
    },
    {
     "name": "stdout",
     "output_type": "stream",
     "text": [
      "extracted_letter_images/2/000001.png\n"
     ]
    },
    {
     "data": {
      "image/png": "[encoded data removed]",
      "text/plain": [
       "<Figure size 432x288 with 1 Axes>"
      ]
     },
     "metadata": {
      "needs_background": "light"
     },
     "output_type": "display_data"
    },
    {
     "name": "stdout",
     "output_type": "stream",
     "text": [
      "extracted_letter_images/2/000002.png\n"
     ]
    },
    {
     "data": {
      "image/png": "[encoded data removed]",
      "text/plain": [
       "<Figure size 432x288 with 1 Axes>"
      ]
     },
     "metadata": {
      "needs_background": "light"
     },
     "output_type": "display_data"
    },
    {
     "name": "stdout",
     "output_type": "stream",
     "text": [
      "extracted_letter_images/2/000003.png\n"
     ]
    },
    {
     "data": {
      "image/png": "[encoded data removed]",
      "text/plain": [
       "<Figure size 432x288 with 1 Axes>"
      ]
     },
     "metadata": {
      "needs_background": "light"
     },
     "output_type": "display_data"
    },
    {
     "name": "stdout",
     "output_type": "stream",
     "text": [
      "extracted_letter_images/X/000001.png\n"
     ]
    }
   ],
   "source": [
    "#import os\n",
    "\n",
    "#LETTER_IMAGES_FOLDER = \"extracted_letter_images\" # the output for training\n",
    "#SKIPPED_FOLDER = \"skipped_images\" # those images are skipped\n",
    "#counts = {} # counts['A'] = number of 'A'-images, so that next 'A'-image can be named as counts['A'] + 1\n",
    "\n",
    "# loop over the image paths\n",
    "#for (i, captcha_image_file) in enumerate(captcha_image_files):\n",
    "    #print(\"[INFO] processing image {}/{}\".format(i + 1, len(captcha_image_files)))\n",
    "    \n",
    "    \n",
    "\n",
    "    #############################################################################\n",
    "    # TODO: your code here ...                                                  #\n",
    "    #############################################################################\n",
    "    \n",
    "%matplotlib inline\n",
    "#The line above is necesary to show Matplotlib's plots inside a Jupyter Notebook\n",
    "import os\n",
    "import os.path\n",
    "import glob # glob.glob returns the list of files with their full path, and it supports wildcards\n",
    "\n",
    "from matplotlib import pyplot as plt\n",
    "import cv2 # OpenCV, a popular framework for computer vision and image processing\n",
    "import numpy as np\n",
    "\n",
    "from IPython.display import Image\n",
    "\n",
    "#the following path should work as long as the image folder has been created in the same folder as the ipynb file we are running\n",
    "LETTER_IMAGES_FOLDER = r\"extracted_letter_images\" # the output folder for training\n",
    "SKIPPED_FOLDER = \"skipped_images\" # those images are skipped\n",
    "counts = {} # counts['A'] = number of 'A'-images, so that next 'A'-image can be named as counts['A'] + 1\n",
    "\n",
    "captcha_image_files = glob.glob(os.path.join(CAPTCHA_IMAGE_FOLDER, \"*\"))\n",
    "\n",
    "# loop over the image paths\n",
    "for (i, captcha_image_file) in enumerate(captcha_image_files):\n",
    "    #if i==1: break\n",
    "    print(\"[INFO] processing image {}/{}\".format(i + 1, len(captcha_image_files)))\n",
    "    #print(captcha_image_file)\n",
    "    display(Image(filename=captcha_image_file))\n",
    "    captcha_correct_text = os.path.splitext(captcha_image_file)[0]\n",
    "    #print(captcha_correct_text[25:29])\n",
    "    image = cv2.imread(captcha_image_file)\n",
    "    #plt.imshow(image)\n",
    "    #plt.show()\n",
    "    \n",
    "    gray = cv2.cvtColor(image, cv2.COLOR_BGR2GRAY)\n",
    "    #plt.imshow(gray)\n",
    "    #plt.show()\n",
    "    \n",
    "    gray = cv2.copyMakeBorder(gray, 8, 8, 8, 8, cv2.BORDER_REPLICATE)\n",
    "    #plt.imshow(gray)\n",
    "    #plt.show()\n",
    "    \n",
    "    thresh = cv2.threshold(gray, 0, 255, cv2.THRESH_BINARY_INV | cv2.THRESH_OTSU)[1]\n",
    "    #plt.imshow(thresh)\n",
    "    #plt.show()\n",
    "    \n",
    "    contours = cv2.findContours(thresh.copy(), cv2.RETR_EXTERNAL, cv2.CHAIN_APPROX_SIMPLE)[0]\n",
    "    zero_img = np.zeros_like(thresh)\n",
    "    k = [0,0,0,0]\n",
    "    if len(contours) == 4:\n",
    "        for j in range(len(contours)):\n",
    "            temp = cv2.drawContours(zero_img.copy(), contours, j, (255,0,0), 1)\n",
    "            #k[j] = captcha_correct_text[25+j]\n",
    "            #print(k[j])\n",
    "            #plt.imshow(temp)\n",
    "            #plt.show()\n",
    "            \n",
    "        #We can see from the original code that the captcha 222X is seperated by contours as 22X2\n",
    "        #Since I want to pull the name of each image file from the original filename, I need the contours to be sorted along the x-axis before each image file is saved\n",
    "        L = [(0,0,0,0),(0,0,0,0),(0,0,0,0),(0,0,0,0)]\n",
    "       \n",
    "        for a in range(len(contours)):\n",
    "            (x, y, w, h) = cv2.boundingRect(contours[a])\n",
    "            L[a] = (x, y, w, h)\n",
    "        L.sort(key=lambda x: x[0])\n",
    "        #print(L)\n",
    "    \n",
    "        for b in range(len(L)):\n",
    "            (x, y, w, h) = L[b]\n",
    "            #print(x)\n",
    "            letter_image = gray[y:y+h, x:x+w]\n",
    "            #plt.imshow(letter_image)\n",
    "            #plt.show()\n",
    "            letter_name = captcha_correct_text[25+b]\n",
    "            #print(letter_name)\n",
    "            count = counts.get(letter_name, 1)\n",
    "            #print(str(count).zfill(6))\n",
    "            file_path = os.path.join(LETTER_IMAGES_FOLDER, letter_name, \"{}.png\".format(str(count).zfill(6))).replace(\"\\\\\",\"/\") #Filename created with padded zeroes and added to path\n",
    "            #print(file_path)\n",
    "            plt.imsave(file_path, letter_image)\n",
    "            counts[letter_name] = count + 1\n",
    "    \n",
    " \n",
    "    \n",
    "    #############################################################################\n",
    "    #                              END OF YOUR CODE                             #\n",
    "    #############################################################################"
   ]
  },
  {
   "cell_type": "markdown",
   "metadata": {},
   "source": [
    "Now, folder `extracted_letter_images` should contain 32 folders, each storing the corresponding letter images"
   ]
  },
  {
   "cell_type": "markdown",
   "metadata": {},
   "source": [
    "## Step 2: Train the neural network to recognize single letters"
   ]
  },
  {
   "cell_type": "markdown",
   "metadata": {},
   "source": [
    "Since input layer of a neural network model takes images of fixed size (usually square), we need to resize images first."
   ]
  },
  {
   "cell_type": "code",
   "execution_count": 69,
   "metadata": {},
   "outputs": [
    {
     "name": "stdout",
     "output_type": "stream",
     "text": [
      "(12, 7)\n"
     ]
    },
    {
     "data": {
      "image/png": "[encoded data removed]",
      "text/plain": [
       "<Figure size 432x288 with 1 Axes>"
      ]
     },
     "metadata": {
      "needs_background": "light"
     },
     "output_type": "display_data"
    }
   ],
   "source": [
    "letter_image_file = 'extracted_letter_images/2/000001.png'\n",
    "\n",
    "image = cv2.imread(letter_image_file)\n",
    "image = cv2.cvtColor(image, cv2.COLOR_BGR2GRAY)\n",
    "print(image.shape) \n",
    "(h, w) = image.shape[:2] # note that cv.imread gets an array of h x w, h goes first\n",
    "# add [:2] so that even if color image will work, not needed here though\n",
    "\n",
    "plt.imshow(image)\n",
    "plt.show()"
   ]
  },
  {
   "cell_type": "markdown",
   "metadata": {},
   "source": [
    "Since `h > w`, we make sure `h` fits in our desired height value, e.g., 20:"
   ]
  },
  {
   "cell_type": "code",
   "execution_count": 70,
   "metadata": {},
   "outputs": [
    {
     "data": {
      "image/png": "[encoded data removed]",
      "text/plain": [
       "<Figure size 432x288 with 1 Axes>"
      ]
     },
     "metadata": {
      "needs_background": "light"
     },
     "output_type": "display_data"
    }
   ],
   "source": [
    "import imutils\n",
    "\n",
    "image = imutils.resize(image, height=20)\n",
    "# imutils.resize maintains the aspect ratio\n",
    "\n",
    "plt.imshow(image)\n",
    "plt.show()"
   ]
  },
  {
   "cell_type": "markdown",
   "metadata": {},
   "source": [
    "Now we pad along width to make the image square, i.e., 20 x 20:"
   ]
  },
  {
   "cell_type": "code",
   "execution_count": 71,
   "metadata": {},
   "outputs": [
    {
     "data": {
      "image/png": "[encoded data removed]",
      "text/plain": [
       "<Figure size 432x288 with 1 Axes>"
      ]
     },
     "metadata": {
      "needs_background": "light"
     },
     "output_type": "display_data"
    }
   ],
   "source": [
    "# determine the padding values for the width (= 20)\n",
    "# to obtain the target dimensions\n",
    "padW = int((20 - image.shape[1]) / 2.0) # may have rounding\n",
    "\n",
    "# pad the image\n",
    "image = cv2.copyMakeBorder(image, 0, 0, padW, padW,\n",
    "        cv2.BORDER_REPLICATE)\n",
    "\n",
    "# apply one more resizing to handle any rounding issues\n",
    "image = cv2.resize(image, (20, 20))\n",
    "\n",
    "plt.imshow(image)\n",
    "plt.show()"
   ]
  },
  {
   "cell_type": "markdown",
   "metadata": {},
   "source": [
    "Using what you learned, now write a function to resize images. Note that you also need to handle the possible case `h < w`:"
   ]
  },
  {
   "cell_type": "code",
   "execution_count": 72,
   "metadata": {},
   "outputs": [],
   "source": [
    "import imutils\n",
    "\n",
    "def resize_to_fit(image, width, height):\n",
    "    \"\"\"\n",
    "    A helper function to resize an image to fit within a given size\n",
    "    - param image: image to resize\n",
    "    - param width: desired width in pixels\n",
    "    - param height: desired height in pixels\n",
    "    - return: the resized image\n",
    "    \"\"\"\n",
    "\n",
    "    #############################################################################\n",
    "    # TODO: your code here ...                                                  #\n",
    "    #############################################################################\n",
    "   \n",
    "    #image = cv2.cvtColor(image, cv2.COLOR_BGR2GRAY)\n",
    "    #print(image.shape) \n",
    "    #(h, w) = image.shape[:2] # add [:2] so that even if color image will work, not needed here though\n",
    "\n",
    "    #plt.imshow(image)\n",
    "    #plt.show()\n",
    "\n",
    "    if height>width:\n",
    "        #Since h > w, we make sure h fits in our desired height value, e.g., 20:\n",
    "        image = imutils.resize(image, height) # imutils.resize maintains the aspect ratio\n",
    "        #plt.imshow(image)\n",
    "        #plt.show()\n",
    "\n",
    "        #Now we pad along width to make the image square, i.e., 20 x 20:\n",
    "        # determine the padding values for the width (= 20)\n",
    "        # to obtain the target dimensions\n",
    "        padW = int((width - image.shape[1]) / 2.0) # may have rounding\n",
    "\n",
    "        # pad the image\n",
    "        image = cv2.copyMakeBorder(image, 0, 0, padW, padW,\n",
    "        cv2.BORDER_REPLICATE)\n",
    "\n",
    "        \n",
    "    elif height<width:\n",
    "        image = imutils.resize(image, width)\n",
    "        #plt.imshow(image)\n",
    "        #plt.show()\n",
    "        \n",
    "        #Now we pad along width to make the image square, i.e., 20 x 20:\n",
    "        # determine the padding values for the height (= 20)\n",
    "        # to obtain the target dimensions\n",
    "        padH = int((height - image.shape[0]) / 2.0) # may have rounding\n",
    "        # pad the image\n",
    "        image = cv2.copyMakeBorder(image, padH, padH, 0, 0, \n",
    "        cv2.BORDER_REPLICATE)\n",
    "        \n",
    "\n",
    "    # apply one more resizing to handle any rounding issues\n",
    "    image = cv2.resize(image, (height, width))\n",
    "    #plt.imshow(image)\n",
    "    #plt.show()\n",
    "    \n",
    "    #############################################################################\n",
    "    #                              END OF YOUR CODE                             #\n",
    "    #############################################################################\n",
    "\n",
    "    # return the pre-processed image\n",
    "    return image"
   ]
  },
  {
   "cell_type": "markdown",
   "metadata": {},
   "source": [
    "Prepare the training and validating datasets:"
   ]
  },
  {
   "cell_type": "code",
   "execution_count": 73,
   "metadata": {},
   "outputs": [
    {
     "name": "stdout",
     "output_type": "stream",
     "text": [
      "Processing Folder 2\n",
      "Processing Folder 3\n",
      "Processing Folder 4\n",
      "Processing Folder 5\n",
      "Processing Folder 6\n",
      "Processing Folder 7\n",
      "Processing Folder 8\n",
      "Processing Folder 9\n",
      "Processing Folder A\n",
      "Processing Folder B\n",
      "Processing Folder C\n",
      "Processing Folder D\n",
      "Processing Folder E\n",
      "Processing Folder F\n",
      "Processing Folder G\n",
      "Processing Folder H\n",
      "Processing Folder J\n",
      "Processing Folder K\n",
      "Processing Folder L\n",
      "Processing Folder M\n",
      "Processing Folder N\n",
      "Processing Folder P\n",
      "Processing Folder Q\n",
      "Processing Folder R\n",
      "Processing Folder S\n",
      "Processing Folder T\n",
      "Processing Folder U\n",
      "Processing Folder V\n",
      "Processing Folder W\n",
      "Processing Folder X\n",
      "Processing Folder Y\n",
      "Processing Folder Z\n"
     ]
    }
   ],
   "source": [
    "from imutils import paths\n",
    "\n",
    "# initialize the data and labels\n",
    "data_labels = []\n",
    "\n",
    "progress_folder = ''\n",
    "\n",
    "# loop over the input images\n",
    "# imutils.paths.list_images will list all images in the 32 subfolders\n",
    "for image_file in paths.list_images(LETTER_IMAGES_FOLDER):\n",
    "    # Load the image and convert it to grayscale\n",
    "    image = cv2.imread(image_file)\n",
    "    image = cv2.cvtColor(image, cv2.COLOR_BGR2GRAY)\n",
    "\n",
    "    # Resize the letter so it fits in a 20x20 pixel box\n",
    "    image = resize_to_fit(image, 20, 20)\n",
    "\n",
    "    # Add a third channel dimension to the image to make Keras happy\n",
    "    image = np.expand_dims(image, axis=2)\n",
    "\n",
    "    # Grab the name of the letter based on the folder it was in\n",
    "    label = image_file.split(os.path.sep)[-2]\n",
    "    # extracted_letter_images/2/000001.png, after split\n",
    "    # extracted_letter_images, 2, 000001.png\n",
    "    # so 2 is the 2nd last, accessed using index -2\n",
    "    \n",
    "    if label != progress_folder:\n",
    "        print('Processing Folder', label)\n",
    "        progress_folder = label\n",
    "    \n",
    "    # Add the letter image and it's label to our training data\n",
    "    data_labels.append((image,label))"
   ]
  },
  {
   "cell_type": "code",
   "execution_count": 74,
   "metadata": {},
   "outputs": [],
   "source": [
    "# shuffling training data, as we will use part of it for validation and we need labels to be balanced\n",
    "\n",
    "import random\n",
    "\n",
    "random.shuffle(data_labels)\n",
    "data = [x[0] for x in data_labels]\n",
    "labels = [x[1] for x in data_labels]"
   ]
  },
  {
   "cell_type": "markdown",
   "metadata": {},
   "source": [
    "Convert lists into NumPy arrays as required by Keras for input + data normalization:"
   ]
  },
  {
   "cell_type": "code",
   "execution_count": 75,
   "metadata": {},
   "outputs": [],
   "source": [
    "# scale the raw pixel intensities to the range [0, 1] (this is important!!!)\n",
    "data = np.array(data, dtype=\"float\") / 255.0  #Use 255 for normalization and 1 forun-normalized case\n",
    "\n",
    "# you may also use std rather than 255, and center the data by mean as follows:\n",
    "#data = (np.array(data, dtype=\"float\") - data.mean()) / data.std()\n",
    "# in this case you need to remember the mean and std for use during testing later\n",
    "\n",
    "# scaling is not needed if you use BatchNormalization after Conv2D and before Activation\n",
    "\n",
    "labels = np.array(labels)"
   ]
  },
  {
   "cell_type": "markdown",
   "metadata": {},
   "source": [
    "Split into training and validation datasets:"
   ]
  },
  {
   "cell_type": "code",
   "execution_count": 76,
   "metadata": {},
   "outputs": [
    {
     "name": "stdout",
     "output_type": "stream",
     "text": [
      "['2' '3' '4' '5' '6' '7' '8' '9' 'A' 'B' 'C' 'D' 'E' 'F' 'G' 'H' 'J' 'K'\n",
      " 'L' 'M' 'N' 'P' 'Q' 'R' 'S' 'T' 'U' 'V' 'W' 'X' 'Y' 'Z']\n",
      "\n",
      "[[0 0 0 ... 0 0 0]\n",
      " [0 0 0 ... 0 0 0]\n",
      " [0 0 0 ... 0 0 0]\n",
      " ...\n",
      " [0 0 0 ... 0 0 0]\n",
      " [0 0 0 ... 0 0 0]\n",
      " [0 0 0 ... 0 0 0]]\n"
     ]
    }
   ],
   "source": [
    "from sklearn.preprocessing import LabelBinarizer\n",
    "\n",
    "# Convert the labels (letters) into one-hot encodings that Keras can work with\n",
    "lb = LabelBinarizer().fit(labels)\n",
    "print(lb.classes_)\n",
    "labels = lb.transform(labels)\n",
    "print()\n",
    "print(labels)"
   ]
  },
  {
   "cell_type": "code",
   "execution_count": 77,
   "metadata": {},
   "outputs": [],
   "source": [
    "import pickle\n",
    "\n",
    "MODEL_LABELS_FILENAME = \"model_labels.dat\"\n",
    "\n",
    "# Save the mapping from labels to one-hot encodings.\n",
    "# We'll need this later when we use the model to decode what it's predictions mean\n",
    "with open(MODEL_LABELS_FILENAME, \"wb\") as f:\n",
    "    pickle.dump(lb, f)"
   ]
  },
  {
   "cell_type": "markdown",
   "metadata": {},
   "source": [
    "Now we are ready to train it using Keras. We’ll use a simple convolutional neural network architecture with two convolutional layers and two fully-connected layers:"
   ]
  },
  {
   "cell_type": "code",
   "execution_count": 78,
   "metadata": {},
   "outputs": [],
   "source": [
    "from tensorflow.keras.backend import clear_session\n",
    "from tensorflow.keras.models import Sequential\n",
    "from tensorflow.keras.layers import Conv2D, MaxPooling2D, Flatten, Dense\n",
    "\n",
    "clear_session() # free existing Keras models\n",
    "\n",
    "# Build the neural network!\n",
    "model = Sequential()\n",
    "\n",
    "# First convolutional layer with max pooling\n",
    "model.add(Conv2D(20, (5, 5), padding=\"same\", input_shape=(20, 20, 1), activation=\"relu\"))\n",
    "model.add(MaxPooling2D(pool_size=(2, 2), strides=(2, 2)))\n",
    "\n",
    "# Second convolutional layer with max pooling\n",
    "model.add(Conv2D(50, (3, 3), padding=\"same\", activation=\"relu\"))\n",
    "model.add(MaxPooling2D(pool_size=(2, 2), strides=(2, 2)))\n",
    "\n",
    "# Hidden layer with 500 nodes\n",
    "model.add(Flatten())\n",
    "model.add(Dense(500, activation=\"relu\"))\n",
    "\n",
    "# Output layer with 32 nodes (one for each possible letter/number we predict)\n",
    "model.add(Dense(32, activation=\"softmax\"))"
   ]
  },
  {
   "cell_type": "code",
   "execution_count": 30,
   "metadata": {},
   "outputs": [
    {
     "name": "stdout",
     "output_type": "stream",
     "text": [
      "Model: \"sequential\"\n",
      "_________________________________________________________________\n",
      " Layer (type)                Output Shape              Param #   \n",
      "=================================================================\n",
      " conv2d (Conv2D)             (None, 20, 20, 20)        520       \n",
      "                                                                 \n",
      " max_pooling2d (MaxPooling2D  (None, 10, 10, 20)       0         \n",
      " )                                                               \n",
      "                                                                 \n",
      " conv2d_1 (Conv2D)           (None, 10, 10, 50)        9050      \n",
      "                                                                 \n",
      " max_pooling2d_1 (MaxPooling  (None, 5, 5, 50)         0         \n",
      " 2D)                                                             \n",
      "                                                                 \n",
      " flatten (Flatten)           (None, 1250)              0         \n",
      "                                                                 \n",
      " dense (Dense)               (None, 500)               625500    \n",
      "                                                                 \n",
      " dense_1 (Dense)             (None, 32)                16032     \n",
      "                                                                 \n",
      "=================================================================\n",
      "Total params: 651,102\n",
      "Trainable params: 651,102\n",
      "Non-trainable params: 0\n",
      "_________________________________________________________________\n"
     ]
    }
   ],
   "source": [
    "model.summary()"
   ]
  },
  {
   "cell_type": "code",
   "execution_count": 79,
   "metadata": {},
   "outputs": [
    {
     "data": {
      "image/png": "[encoded data removed]",
      "text/plain": [
       "<IPython.core.display.Image object>"
      ]
     },
     "metadata": {},
     "output_type": "display_data"
    }
   ],
   "source": [
    "# from tensorflow.keras.utils import plot_model\n",
    "from keras.utils import plot_model # if does not work properly, try the previous line instead\n",
    "\n",
    "MODEL_PLOT_FILE = 'model_plot.png'\n",
    "plot_model(model, to_file=MODEL_PLOT_FILE, show_shapes=True, show_layer_names=True)\n",
    "display(Image(filename=MODEL_PLOT_FILE))"
   ]
  },
  {
   "cell_type": "markdown",
   "metadata": {},
   "source": [
    "Questions: (1) Why `conv2d_1` has 9050 parameters? (2) Why `dense` has 625500 parameters?\n",
    "\n",
    "Hint: self-study http://cs231n.stanford.edu/slides/2017/cs231n_2017_lecture5.pdf\n",
    "    \n",
    "**Type Your Answer Here:**\n",
    "\n",
    "The formula for calculating the number of parameters of a Conv2D layer = no. of O/P channels * (no. of I/P channels * kernel height * kernel width + 1). For conv2d_1 layer, the number of parameters = 50 * (20*3*3 + 1) = 9050.\n",
    "\n",
    "The formula for calculating the number of parameters of a Dense layer = no. of O/P channels * (no. of I/P channels + 1). For the first dense layer, the number of parameters = 500 * (1250 + 1) = 625500.\n"
   ]
  },
  {
   "cell_type": "markdown",
   "metadata": {},
   "source": [
    "\n",
    "Now, let us do the actual training:"
   ]
  },
  {
   "cell_type": "code",
   "execution_count": 80,
   "metadata": {},
   "outputs": [],
   "source": [
    "# Ask Keras to build the TensorFlow model behind the scenes\n",
    "model.compile(loss=\"categorical_crossentropy\", optimizer=\"adam\", metrics=[\"accuracy\"])"
   ]
  },
  {
   "cell_type": "code",
   "execution_count": 81,
   "metadata": {},
   "outputs": [
    {
     "name": "stdout",
     "output_type": "stream",
     "text": [
      "Epoch 1/10\n",
      "910/910 [==============================] - 25s 25ms/step - loss: 0.1861 - accuracy: 0.9528 - val_loss: 0.0075 - val_accuracy: 0.9995\n",
      "Epoch 2/10\n",
      "910/910 [==============================] - 25s 27ms/step - loss: 0.0062 - accuracy: 0.9991 - val_loss: 0.0056 - val_accuracy: 0.9992\n",
      "Epoch 3/10\n",
      "910/910 [==============================] - 29s 32ms/step - loss: 0.0029 - accuracy: 0.9997 - val_loss: 0.0059 - val_accuracy: 0.9995\n",
      "Epoch 4/10\n",
      "910/910 [==============================] - 30s 33ms/step - loss: 0.0060 - accuracy: 0.9984 - val_loss: 0.0069 - val_accuracy: 0.9995\n",
      "Epoch 5/10\n",
      "910/910 [==============================] - 25s 27ms/step - loss: 0.0015 - accuracy: 0.9998 - val_loss: 0.0067 - val_accuracy: 0.9995\n",
      "Epoch 6/10\n",
      "910/910 [==============================] - 25s 28ms/step - loss: 0.0037 - accuracy: 0.9989 - val_loss: 0.0065 - val_accuracy: 0.9996\n",
      "Epoch 7/10\n",
      "910/910 [==============================] - 27s 30ms/step - loss: 8.0255e-04 - accuracy: 0.9999 - val_loss: 0.0081 - val_accuracy: 0.9996\n",
      "Epoch 8/10\n",
      "910/910 [==============================] - 26s 28ms/step - loss: 0.0015 - accuracy: 0.9998 - val_loss: 0.0075 - val_accuracy: 0.9995\n",
      "Epoch 9/10\n",
      "910/910 [==============================] - 25s 27ms/step - loss: 0.0028 - accuracy: 0.9996 - val_loss: 0.0057 - val_accuracy: 0.9995\n",
      "Epoch 10/10\n",
      "910/910 [==============================] - 26s 28ms/step - loss: 9.9264e-04 - accuracy: 0.9999 - val_loss: 0.0055 - val_accuracy: 0.9995\n"
     ]
    },
    {
     "data": {
      "text/plain": [
       "<keras.callbacks.History at 0x23f8170bfa0>"
      ]
     },
     "execution_count": 81,
     "metadata": {},
     "output_type": "execute_result"
    }
   ],
   "source": [
    "# Train the neural network, 20% of the data is used for validation\n",
    "model.fit(data, labels, validation_split=0.20, batch_size=32, epochs=10, verbose=1)"
   ]
  },
  {
   "cell_type": "markdown",
   "metadata": {},
   "source": [
    "Save the model for later use:"
   ]
  },
  {
   "cell_type": "code",
   "execution_count": 82,
   "metadata": {},
   "outputs": [],
   "source": [
    "MODEL_FILENAME = \"captcha_model.hdf5\"\n",
    "\n",
    "# Save the trained model to disk\n",
    "model.save(MODEL_FILENAME)"
   ]
  },
  {
   "cell_type": "code",
   "execution_count": 83,
   "metadata": {},
   "outputs": [
    {
     "name": "stdout",
     "output_type": "stream",
     "text": [
      "['2' '3' '4' '5' '6' '7' '8' '9' 'A' 'B' 'C' 'D' 'E' 'F' 'G' 'H' 'J' 'K'\n",
      " 'L' 'M' 'N' 'P' 'Q' 'R' 'S' 'T' 'U' 'V' 'W' 'X' 'Y' 'Z']\n",
      "\n",
      "[[0 0 0 ... 0 0 0]\n",
      " [0 0 0 ... 0 0 0]\n",
      " [0 0 0 ... 0 0 0]\n",
      " ...\n",
      " [0 0 0 ... 0 0 0]\n",
      " [0 0 0 ... 0 0 0]\n",
      " [0 0 0 ... 0 0 0]]\n",
      "Model: \"sequential\"\n",
      "_________________________________________________________________\n",
      " Layer (type)                Output Shape              Param #   \n",
      "=================================================================\n",
      " conv2d (Conv2D)             (None, 20, 20, 20)        520       \n",
      "                                                                 \n",
      " max_pooling2d (MaxPooling2D  (None, 10, 10, 20)       0         \n",
      " )                                                               \n",
      "                                                                 \n",
      " conv2d_1 (Conv2D)           (None, 10, 10, 50)        9050      \n",
      "                                                                 \n",
      " max_pooling2d_1 (MaxPooling  (None, 5, 5, 50)         0         \n",
      " 2D)                                                             \n",
      "                                                                 \n",
      " flatten (Flatten)           (None, 1250)              0         \n",
      "                                                                 \n",
      " dense (Dense)               (None, 500)               625500    \n",
      "                                                                 \n",
      " dense_1 (Dense)             (None, 32)                16032     \n",
      "                                                                 \n",
      "=================================================================\n",
      "Total params: 651,102\n",
      "Trainable params: 651,102\n",
      "Non-trainable params: 0\n",
      "_________________________________________________________________\n"
     ]
    },
    {
     "data": {
      "image/png": "[encoded data removed]",
      "text/plain": [
       "<IPython.core.display.Image object>"
      ]
     },
     "metadata": {},
     "output_type": "display_data"
    },
    {
     "name": "stdout",
     "output_type": "stream",
     "text": [
      "Epoch 1/10\n",
      "910/910 [==============================] - 24s 24ms/step - loss: 0.4559 - accuracy: 0.9683 - val_loss: 0.0092 - val_accuracy: 0.9995\n",
      "Epoch 2/10\n",
      "910/910 [==============================] - 24s 26ms/step - loss: 0.0122 - accuracy: 0.9969 - val_loss: 0.0070 - val_accuracy: 0.9996\n",
      "Epoch 3/10\n",
      "910/910 [==============================] - 23s 26ms/step - loss: 0.0224 - accuracy: 0.9947 - val_loss: 0.0341 - val_accuracy: 0.9933\n",
      "Epoch 4/10\n",
      "910/910 [==============================] - 23s 26ms/step - loss: 0.0095 - accuracy: 0.9982 - val_loss: 0.1137 - val_accuracy: 0.9744\n",
      "Epoch 5/10\n",
      "910/910 [==============================] - 23s 26ms/step - loss: 0.0159 - accuracy: 0.9966 - val_loss: 0.0130 - val_accuracy: 0.9995\n",
      "Epoch 6/10\n",
      "910/910 [==============================] - 23s 26ms/step - loss: 0.0027 - accuracy: 0.9995 - val_loss: 0.0134 - val_accuracy: 0.9992\n",
      "Epoch 7/10\n",
      "910/910 [==============================] - 25s 27ms/step - loss: 0.0344 - accuracy: 0.9950 - val_loss: 0.0178 - val_accuracy: 0.9995\n",
      "Epoch 8/10\n",
      "910/910 [==============================] - 25s 28ms/step - loss: 0.0032 - accuracy: 0.9993 - val_loss: 0.0255 - val_accuracy: 0.9995\n",
      "Epoch 9/10\n",
      "910/910 [==============================] - 25s 27ms/step - loss: 0.0282 - accuracy: 0.9964 - val_loss: 0.0566 - val_accuracy: 0.9993\n",
      "Epoch 10/10\n",
      "910/910 [==============================] - 24s 26ms/step - loss: 0.0077 - accuracy: 0.9989 - val_loss: 0.2203 - val_accuracy: 0.9953\n"
     ]
    }
   ],
   "source": [
    "#See what will happen if you do not scale your data by 255.0?\n",
    "#HINT: simply train again with data/255.0 instead of 255, and see how the loss and acc look like;\n",
    "#      you need to recreate your model by running the cell containing clear_session() before\n",
    "\n",
    "# shuffling training data, as we will use part of it for validation and we need labels to be balanced\n",
    "\n",
    "import random\n",
    "from sklearn.preprocessing import LabelBinarizer\n",
    "import pickle\n",
    "from tensorflow.keras.backend import clear_session\n",
    "from tensorflow.keras.models import Sequential\n",
    "from tensorflow.keras.layers import Conv2D, MaxPooling2D, Flatten, Dense\n",
    "\n",
    "MODEL_LABELS_FILENAME = \"model_labels.dat\"\n",
    "\n",
    "\n",
    "random.shuffle(data_labels)\n",
    "data = [x[0] for x in data_labels]\n",
    "labels = [x[1] for x in data_labels]\n",
    "\n",
    "# scale the raw pixel intensities to the range [0, 1] (this is important!!!)\n",
    "data = np.array(data, dtype=\"float\") / 1 # Change 1 to 255 for normalization\n",
    "\n",
    "# you may also use std rather than 255, and center the data by mean as follows:\n",
    "#data = (np.array(data, dtype=\"float\") - data.mean()) / data.std()\n",
    "# in this case you need to remember the mean and std for use during testing later\n",
    "\n",
    "# scaling is not needed if you use BatchNormalization after Conv2D and before Activation\n",
    "\n",
    "labels = np.array(labels)\n",
    "\n",
    "\n",
    "# Convert the labels (letters) into one-hot encodings that Keras can work with\n",
    "lb = LabelBinarizer().fit(labels)\n",
    "print(lb.classes_)\n",
    "labels = lb.transform(labels)\n",
    "print()\n",
    "print(labels)\n",
    "\n",
    "# Save the mapping from labels to one-hot encodings.\n",
    "# We'll need this later when we use the model to decode what it's predictions mean\n",
    "with open(MODEL_LABELS_FILENAME, \"wb\") as f:\n",
    "    pickle.dump(lb, f)\n",
    "    \n",
    "    \n",
    "clear_session() # free existing Keras models\n",
    "\n",
    "# Build the neural network!\n",
    "model = Sequential()\n",
    "\n",
    "# First convolutional layer with max pooling\n",
    "model.add(Conv2D(20, (5, 5), padding=\"same\", input_shape=(20, 20, 1), activation=\"relu\"))\n",
    "model.add(MaxPooling2D(pool_size=(2, 2), strides=(2, 2)))\n",
    "\n",
    "# Second convolutional layer with max pooling\n",
    "model.add(Conv2D(50, (3, 3), padding=\"same\", activation=\"relu\"))\n",
    "model.add(MaxPooling2D(pool_size=(2, 2), strides=(2, 2)))\n",
    "\n",
    "# Hidden layer with 500 nodes\n",
    "model.add(Flatten())\n",
    "model.add(Dense(500, activation=\"relu\"))\n",
    "\n",
    "# Output layer with 32 nodes (one for each possible letter/number we predict)\n",
    "model.add(Dense(32, activation=\"softmax\"))\n",
    "\n",
    "model.summary()\n",
    "\n",
    "# from tensorflow.keras.utils import plot_model\n",
    "from keras.utils import plot_model # if does not work properly, try the previous line instead\n",
    "\n",
    "MODEL_PLOT_FILE = 'model_plot.png'\n",
    "plot_model(model, to_file=MODEL_PLOT_FILE, show_shapes=True, show_layer_names=True)\n",
    "display(Image(filename=MODEL_PLOT_FILE))\n",
    "\n",
    "# Ask Keras to build the TensorFlow model behind the scenes\n",
    "model.compile(loss=\"categorical_crossentropy\", optimizer=\"adam\", metrics=[\"accuracy\"])\n",
    "\n",
    "# Train the neural network, 20% of the data is used for validation\n",
    "model.fit(data, labels, validation_split=0.20, batch_size=32, epochs=10, verbose=1)\n",
    "\n",
    "MODEL_FILENAME = \"captcha_model_new.hdf5\"\n",
    "\n",
    "# Save the trained model to disk\n",
    "model.save(MODEL_FILENAME)\n"
   ]
  },
  {
   "cell_type": "markdown",
   "metadata": {},
   "source": [
    "## Step 3: Use the model to solve CAPTCHAs!"
   ]
  },
  {
   "cell_type": "markdown",
   "metadata": {},
   "source": [
    "The rest part can be run independently once models are saved."
   ]
  },
  {
   "cell_type": "markdown",
   "metadata": {},
   "source": [
    "Get an image from the online demo: https://contactform7.com/captcha/ and try our model on it:"
   ]
  },
  {
   "cell_type": "code",
   "execution_count": 84,
   "metadata": {},
   "outputs": [
    {
     "data": {
      "image/png": "[encoded data removed]",
      "text/plain": [
       "<IPython.core.display.Image object>"
      ]
     },
     "metadata": {},
     "output_type": "display_data"
    }
   ],
   "source": [
    "# replace the url with the link of the image you see\n",
    "# [Using the same image will cause points deducted !!!]\n",
    "#!wget https://contactform7.com/wp-content/uploads/wpcf7_captcha/708817411.png #https://contactform7.com/wp-content/uploads/wpcf7_captcha/4034640145.png\n",
    "# use the name of the file you downloaded\n",
    "TEST_FILE_NAME = '2635677033.png'#'708817411.png' #'4034640145.png'\n",
    "\n",
    "# show the image\n",
    "from IPython.display import Image\n",
    "\n",
    "display(Image(filename=TEST_FILE_NAME))"
   ]
  },
  {
   "cell_type": "markdown",
   "metadata": {},
   "source": [
    "Load saved model data:"
   ]
  },
  {
   "cell_type": "code",
   "execution_count": 85,
   "metadata": {},
   "outputs": [],
   "source": [
    "from tensorflow.keras.models import load_model\n",
    "import pickle\n",
    "\n",
    "MODEL_FILENAME = \"captcha_model.hdf5\"\n",
    "MODEL_LABELS_FILENAME = \"model_labels.dat\"\n",
    "\n",
    "# Load up the model labels (so we can translate model predictions to actual letters)\n",
    "with open(MODEL_LABELS_FILENAME, \"rb\") as f:\n",
    "    lb = pickle.load(f)\n",
    "\n",
    "# Load the trained neural network\n",
    "model = load_model(MODEL_FILENAME)"
   ]
  },
  {
   "cell_type": "markdown",
   "metadata": {},
   "source": [
    "Load packages and define functions for independent running of Part 3:"
   ]
  },
  {
   "cell_type": "code",
   "execution_count": 86,
   "metadata": {},
   "outputs": [],
   "source": [
    "import numpy as np\n",
    "import imutils\n",
    "import cv2\n",
    "\n",
    "# [!!! please also run the cell defining function \"resize_to_fit\" again, if you run Part 3 alone]"
   ]
  },
  {
   "cell_type": "markdown",
   "metadata": {},
   "source": [
    "Get the letters from the downloaded images:"
   ]
  },
  {
   "cell_type": "code",
   "execution_count": 87,
   "metadata": {},
   "outputs": [
    {
     "name": "stdout",
     "output_type": "stream",
     "text": [
      "[SUCCESS]\n"
     ]
    }
   ],
   "source": [
    "# Load the image and convert it to grayscale\n",
    "image = cv2.imread(TEST_FILE_NAME)\n",
    "\n",
    "gray = cv2.cvtColor(image, cv2.COLOR_BGR2GRAY)\n",
    "\n",
    "# Add some extra padding around the image\n",
    "gray = cv2.copyMakeBorder(gray, 20, 20, 20, 20, cv2.BORDER_REPLICATE)\n",
    "\n",
    "# threshold the image (convert it to pure black and white)\n",
    "thresh = cv2.threshold(gray, 0, 255, cv2.THRESH_BINARY_INV | cv2.THRESH_OTSU)[1]\n",
    "\n",
    "# find the contours (continuous blobs of pixels) the image\n",
    "contours = cv2.findContours(thresh.copy(), cv2.RETR_EXTERNAL, cv2.CHAIN_APPROX_SIMPLE)[0]\n",
    "# !!! if the cell reports error, replace [0] above with [1]\n",
    "\n",
    "letter_image_regions = []\n",
    "\n",
    "# Now we can loop through each of the four contours and extract the letter\n",
    "# inside of each one\n",
    "for contour in contours:\n",
    "    # Get the rectangle that contains the contour\n",
    "    (x, y, w, h) = cv2.boundingRect(contour)\n",
    "    letter_image_regions.append((x, y, w, h))\n",
    "\n",
    "# If we found more or less than 4 letters in the captcha, our letter extraction\n",
    "# didn't work correcly. Skip the image instead of saving bad training data!\n",
    "if len(letter_image_regions) != 4:\n",
    "    print('[WARNING]', TEST_FILE_NAME, 'has', len(letter_image_regions), 'contours, unable to process')\n",
    "else:\n",
    "    print('[SUCCESS]')"
   ]
  },
  {
   "cell_type": "markdown",
   "metadata": {},
   "source": [
    "If you see a warning, use another image instead and repeat the previous steps."
   ]
  },
  {
   "cell_type": "markdown",
   "metadata": {},
   "source": [
    "Otherwise, continue to create an output image:"
   ]
  },
  {
   "cell_type": "code",
   "execution_count": 88,
   "metadata": {},
   "outputs": [
    {
     "data": {
      "image/png": "[encoded data removed]",
      "text/plain": [
       "<Figure size 432x288 with 1 Axes>"
      ]
     },
     "metadata": {
      "needs_background": "light"
     },
     "output_type": "display_data"
    }
   ],
   "source": [
    "# Sort the detected letter images based on the x coordinate to make sure\n",
    "# we are processing them from left-to-right so we match the right image\n",
    "# with the right letter\n",
    "letter_image_regions = sorted(letter_image_regions, key=lambda x: x[0])\n",
    "\n",
    "# Create an output image and a list to hold our predicted letters\n",
    "output = cv2.merge([gray] * 3) # 2D gray image -> 3D color image\n",
    "\n",
    "# show the 3D image\n",
    "%matplotlib inline\n",
    "#The line above is necesary to show Matplotlib's plots inside a Jupyter Notebook\n",
    "from matplotlib import pyplot as plt\n",
    "\n",
    "#Show the image with matplotlib\n",
    "plt.imshow(output)\n",
    "plt.show()"
   ]
  },
  {
   "cell_type": "code",
   "execution_count": 89,
   "metadata": {},
   "outputs": [
    {
     "name": "stdout",
     "output_type": "stream",
     "text": [
      "1/1 [==============================] - 0s 190ms/step\n",
      "1/1 [==============================] - 0s 46ms/step\n",
      "1/1 [==============================] - 0s 48ms/step\n",
      "1/1 [==============================] - 0s 53ms/step\n",
      "CAPTCHA text is: LYMJ\n"
     ]
    },
    {
     "data": {
      "image/png": "[encoded data removed]",
      "text/plain": [
       "<Figure size 432x288 with 1 Axes>"
      ]
     },
     "metadata": {
      "needs_background": "light"
     },
     "output_type": "display_data"
    }
   ],
   "source": [
    "predictions = []\n",
    "\n",
    "# Save out each letter as a single image\n",
    "for letter_bounding_box in letter_image_regions:\n",
    "    # Grab the coordinates of the letter in the image\n",
    "    x, y, w, h = letter_bounding_box\n",
    "\n",
    "    # Extract the letter from the original image with a 2-pixel margin around the edge\n",
    "    letter_image = gray[y - 2:y + h + 2, x - 2:x + w + 2]\n",
    "\n",
    "    # Re-size the letter image to 20x20 pixels to match training data\n",
    "    letter_image = resize_to_fit(letter_image, 20, 20)\n",
    "    \n",
    "    # Turn the single image into a 4D list of images to make Keras happy\n",
    "    # 4D: image_number (=1) x height x width x channel (=1)\n",
    "    letter_image = np.expand_dims(letter_image, axis=2)\n",
    "    letter_image = np.expand_dims(letter_image, axis=0)\n",
    "    \n",
    "    # Ask the neural network to make a prediction\n",
    "    prediction = model.predict(letter_image) # output is one-hot encoded\n",
    "        \n",
    "    letter = lb.inverse_transform(prediction)[0]\n",
    "    # use [0] since there is only one test data's label item in the list\n",
    "    predictions.append(letter)\n",
    "    \n",
    "    # draw the prediction on the output image\n",
    "    # (255, 0, 0) = red\n",
    "    cv2.rectangle(output, (x - 2, y - 2), (x + w + 4, y + h + 4), (255, 0, 0), 1)\n",
    "    cv2.putText(output, letter, (x, y - 8), cv2.FONT_HERSHEY_SIMPLEX, 0.55, (255, 0, 0), 1)\n",
    "\n",
    "# see prediction result:\n",
    "\n",
    "# Print the captcha's text\n",
    "captcha_text = \"\".join(predictions)\n",
    "print(\"CAPTCHA text is: {}\".format(captcha_text))\n",
    "\n",
    "# Show the annotated image\n",
    "plt.imshow(output)\n",
    "plt.show()"
   ]
  },
  {
   "cell_type": "markdown",
   "metadata": {},
   "source": [
    "Questions: Is the prediction correct? How many letters are correctly predicted?\n",
    "    \n",
    "**Type Your Answer Here:**\n",
    "It detected 'H4T5' as 'H444'. The result was the same with and without normalization.\n",
    "It detected 'LE9J' as 'L4MJ' without normalization and as 'LYMJ' with normalization."
   ]
  }
 ],
 "metadata": {
  "kernelspec": {
   "display_name": "Python 3 (ipykernel)",
   "language": "python",
   "name": "python3"
  },
  "language_info": {
   "codemirror_mode": {
    "name": "ipython",
    "version": 3
   },
   "file_extension": ".py",
   "mimetype": "text/x-python",
   "name": "python",
   "nbconvert_exporter": "python",
   "pygments_lexer": "ipython3",
   "version": "3.9.12"
  },
  "vscode": {
   "interpreter": {
    "hash": "9aa2c56ba1ba7fcb2c6f962f717ac1e7c3cf2d5f54fc6932c7116afe08ac0a7c"
   }
  }
 },
 "nbformat": 4,
 "nbformat_minor": 1
}
